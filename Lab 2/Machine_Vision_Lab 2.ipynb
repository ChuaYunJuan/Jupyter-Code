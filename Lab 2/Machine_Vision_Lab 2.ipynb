{
 "cells": [
  {
   "cell_type": "markdown",
   "metadata": {},
   "source": [
    "Machine Vision Lab 2"
   ]
  },
  {
   "cell_type": "code",
   "execution_count": 16,
   "metadata": {},
   "outputs": [],
   "source": [
    "from PIL import Image\n",
    "\n",
    "filename = 'D:\\\\UTAR\\\\Degree\\\\Y3S1\\Machine Vision\\\\Practical\\\\Machine_Vision_Github\\\\Lab 1_Assets\\\\Access_Card.png'\n",
    "\n",
    "\n",
    "with Image.open(filename) as img:\n",
    "    img.load()\n",
    "\n",
    "# img.format ##  format = PNG\n",
    "# img.size ## size = (1280, 960)\n",
    "# img.mode ## mode = RGB\n",
    "\n",
    "display(img)"
   ]
  }
 ],
 "metadata": {
  "kernelspec": {
   "display_name": "Python 3 (ipykernel)",
   "language": "python",
   "name": "python3"
  },
  "language_info": {
   "codemirror_mode": {
    "name": "ipython",
    "version": 3
   },
   "file_extension": ".py",
   "mimetype": "text/x-python",
   "name": "python",
   "nbconvert_exporter": "python",
   "pygments_lexer": "ipython3",
   "version": "3.11.7"
  }
 },
 "nbformat": 4,
 "nbformat_minor": 2
}
